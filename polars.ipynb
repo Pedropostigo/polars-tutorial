{
 "cells": [
  {
   "cell_type": "code",
   "execution_count": 1,
   "metadata": {},
   "outputs": [],
   "source": [
    "import polars as pl"
   ]
  },
  {
   "cell_type": "markdown",
   "metadata": {},
   "source": [
    "### Read data"
   ]
  },
  {
   "cell_type": "code",
   "execution_count": 2,
   "metadata": {},
   "outputs": [],
   "source": [
    "db_path = \"data/database.sqlite\"\n",
    "connection_string = \"sqlite://\" + db_path"
   ]
  },
  {
   "cell_type": "markdown",
   "metadata": {},
   "source": [
    "Read the data directly into memory with the `pl.read_*` functions."
   ]
  },
  {
   "cell_type": "code",
   "execution_count": 4,
   "metadata": {},
   "outputs": [
    {
     "data": {
      "text/html": [
       "<div><style>\n",
       ".dataframe > thead > tr > th,\n",
       ".dataframe > tbody > tr > td {\n",
       "  text-align: right;\n",
       "}\n",
       "</style>\n",
       "<small>shape: (5, 42)</small><table border=\"1\" class=\"dataframe\"><thead><tr><th>id</th><th>player_fifa_api_id</th><th>player_api_id</th><th>date</th><th>overall_rating</th><th>potential</th><th>preferred_foot</th><th>attacking_work_rate</th><th>defensive_work_rate</th><th>crossing</th><th>finishing</th><th>heading_accuracy</th><th>short_passing</th><th>volleys</th><th>dribbling</th><th>curve</th><th>free_kick_accuracy</th><th>long_passing</th><th>ball_control</th><th>acceleration</th><th>sprint_speed</th><th>agility</th><th>reactions</th><th>balance</th><th>shot_power</th><th>jumping</th><th>stamina</th><th>strength</th><th>long_shots</th><th>aggression</th><th>interceptions</th><th>positioning</th><th>vision</th><th>penalties</th><th>marking</th><th>standing_tackle</th><th>sliding_tackle</th><th>gk_diving</th><th>gk_handling</th><th>gk_kicking</th><th>gk_positioning</th><th>gk_reflexes</th></tr><tr><td>i64</td><td>i64</td><td>i64</td><td>str</td><td>i64</td><td>i64</td><td>str</td><td>str</td><td>str</td><td>i64</td><td>i64</td><td>i64</td><td>i64</td><td>i64</td><td>i64</td><td>i64</td><td>i64</td><td>i64</td><td>i64</td><td>i64</td><td>i64</td><td>i64</td><td>i64</td><td>i64</td><td>i64</td><td>i64</td><td>i64</td><td>i64</td><td>i64</td><td>i64</td><td>i64</td><td>i64</td><td>i64</td><td>i64</td><td>i64</td><td>i64</td><td>i64</td><td>i64</td><td>i64</td><td>i64</td><td>i64</td><td>i64</td></tr></thead><tbody><tr><td>1</td><td>218353</td><td>505942</td><td>&quot;2016-02-18 00:…</td><td>67</td><td>71</td><td>&quot;right&quot;</td><td>&quot;medium&quot;</td><td>&quot;medium&quot;</td><td>49</td><td>44</td><td>71</td><td>61</td><td>44</td><td>51</td><td>45</td><td>39</td><td>64</td><td>49</td><td>60</td><td>64</td><td>59</td><td>47</td><td>65</td><td>55</td><td>58</td><td>54</td><td>76</td><td>35</td><td>71</td><td>70</td><td>45</td><td>54</td><td>48</td><td>65</td><td>69</td><td>69</td><td>6</td><td>11</td><td>10</td><td>8</td><td>8</td></tr><tr><td>2</td><td>218353</td><td>505942</td><td>&quot;2015-11-19 00:…</td><td>67</td><td>71</td><td>&quot;right&quot;</td><td>&quot;medium&quot;</td><td>&quot;medium&quot;</td><td>49</td><td>44</td><td>71</td><td>61</td><td>44</td><td>51</td><td>45</td><td>39</td><td>64</td><td>49</td><td>60</td><td>64</td><td>59</td><td>47</td><td>65</td><td>55</td><td>58</td><td>54</td><td>76</td><td>35</td><td>71</td><td>70</td><td>45</td><td>54</td><td>48</td><td>65</td><td>69</td><td>69</td><td>6</td><td>11</td><td>10</td><td>8</td><td>8</td></tr><tr><td>3</td><td>218353</td><td>505942</td><td>&quot;2015-09-21 00:…</td><td>62</td><td>66</td><td>&quot;right&quot;</td><td>&quot;medium&quot;</td><td>&quot;medium&quot;</td><td>49</td><td>44</td><td>71</td><td>61</td><td>44</td><td>51</td><td>45</td><td>39</td><td>64</td><td>49</td><td>60</td><td>64</td><td>59</td><td>47</td><td>65</td><td>55</td><td>58</td><td>54</td><td>76</td><td>35</td><td>63</td><td>41</td><td>45</td><td>54</td><td>48</td><td>65</td><td>66</td><td>69</td><td>6</td><td>11</td><td>10</td><td>8</td><td>8</td></tr><tr><td>4</td><td>218353</td><td>505942</td><td>&quot;2015-03-20 00:…</td><td>61</td><td>65</td><td>&quot;right&quot;</td><td>&quot;medium&quot;</td><td>&quot;medium&quot;</td><td>48</td><td>43</td><td>70</td><td>60</td><td>43</td><td>50</td><td>44</td><td>38</td><td>63</td><td>48</td><td>60</td><td>64</td><td>59</td><td>46</td><td>65</td><td>54</td><td>58</td><td>54</td><td>76</td><td>34</td><td>62</td><td>40</td><td>44</td><td>53</td><td>47</td><td>62</td><td>63</td><td>66</td><td>5</td><td>10</td><td>9</td><td>7</td><td>7</td></tr><tr><td>5</td><td>218353</td><td>505942</td><td>&quot;2007-02-22 00:…</td><td>61</td><td>65</td><td>&quot;right&quot;</td><td>&quot;medium&quot;</td><td>&quot;medium&quot;</td><td>48</td><td>43</td><td>70</td><td>60</td><td>43</td><td>50</td><td>44</td><td>38</td><td>63</td><td>48</td><td>60</td><td>64</td><td>59</td><td>46</td><td>65</td><td>54</td><td>58</td><td>54</td><td>76</td><td>34</td><td>62</td><td>40</td><td>44</td><td>53</td><td>47</td><td>62</td><td>63</td><td>66</td><td>5</td><td>10</td><td>9</td><td>7</td><td>7</td></tr></tbody></table></div>"
      ],
      "text/plain": [
       "shape: (5, 42)\n",
       "┌─────┬────────────┬────────────┬────────────┬───┬────────────┬────────────┬───────────┬───────────┐\n",
       "│ id  ┆ player_fif ┆ player_api ┆ date       ┆ … ┆ gk_handlin ┆ gk_kicking ┆ gk_positi ┆ gk_reflex │\n",
       "│ --- ┆ a_api_id   ┆ _id        ┆ ---        ┆   ┆ g          ┆ ---        ┆ oning     ┆ es        │\n",
       "│ i64 ┆ ---        ┆ ---        ┆ str        ┆   ┆ ---        ┆ i64        ┆ ---       ┆ ---       │\n",
       "│     ┆ i64        ┆ i64        ┆            ┆   ┆ i64        ┆            ┆ i64       ┆ i64       │\n",
       "╞═════╪════════════╪════════════╪════════════╪═══╪════════════╪════════════╪═══════════╪═══════════╡\n",
       "│ 1   ┆ 218353     ┆ 505942     ┆ 2016-02-18 ┆ … ┆ 11         ┆ 10         ┆ 8         ┆ 8         │\n",
       "│     ┆            ┆            ┆ 00:00:00   ┆   ┆            ┆            ┆           ┆           │\n",
       "│ 2   ┆ 218353     ┆ 505942     ┆ 2015-11-19 ┆ … ┆ 11         ┆ 10         ┆ 8         ┆ 8         │\n",
       "│     ┆            ┆            ┆ 00:00:00   ┆   ┆            ┆            ┆           ┆           │\n",
       "│ 3   ┆ 218353     ┆ 505942     ┆ 2015-09-21 ┆ … ┆ 11         ┆ 10         ┆ 8         ┆ 8         │\n",
       "│     ┆            ┆            ┆ 00:00:00   ┆   ┆            ┆            ┆           ┆           │\n",
       "│ 4   ┆ 218353     ┆ 505942     ┆ 2015-03-20 ┆ … ┆ 10         ┆ 9          ┆ 7         ┆ 7         │\n",
       "│     ┆            ┆            ┆ 00:00:00   ┆   ┆            ┆            ┆           ┆           │\n",
       "│ 5   ┆ 218353     ┆ 505942     ┆ 2007-02-22 ┆ … ┆ 10         ┆ 9          ┆ 7         ┆ 7         │\n",
       "│     ┆            ┆            ┆ 00:00:00   ┆   ┆            ┆            ┆           ┆           │\n",
       "└─────┴────────────┴────────────┴────────────┴───┴────────────┴────────────┴───────────┴───────────┘"
      ]
     },
     "execution_count": 4,
     "metadata": {},
     "output_type": "execute_result"
    }
   ],
   "source": [
    "player_data = pl.read_database(\"select * from Player_Attributes\", connection_string)\n",
    "player_data.head()"
   ]
  },
  {
   "cell_type": "markdown",
   "metadata": {},
   "source": [
    "There is also the `pl.scan_*` functions, to laizily read information. Better to use these when available."
   ]
  },
  {
   "cell_type": "markdown",
   "metadata": {},
   "source": [
    "### Eager vs. Lazy execution\n",
    "- **Eager**: queries are exectuted on the fly in the order provided. Very little optimization by polars.\n",
    "- **Lazy**: queries are exectuded when needed. Polars optimizes the query execution.\n",
    "\n",
    "Example of Eager execution:"
   ]
  },
  {
   "cell_type": "code",
   "execution_count": 12,
   "metadata": {},
   "outputs": [
    {
     "name": "stdout",
     "output_type": "stream",
     "text": [
      "47 ms ± 13 ms per loop (mean ± std. dev. of 7 runs, 10 loops each)\n"
     ]
    }
   ],
   "source": [
    "%%timeit\n",
    "attackig_potential_data = (player_data\n",
    "                            .sort(pl.col(\"potential\"))\n",
    "                            .filter(pl.col(\"attacking_work_rate\")==\"high\"))"
   ]
  },
  {
   "cell_type": "markdown",
   "metadata": {},
   "source": [
    "Example of Lazy execution. We need to call the lazy method to mark that all subsequent queries are exectuden in lazy mode, and the collect method to retrieve the result of the lazy execution:"
   ]
  },
  {
   "cell_type": "code",
   "execution_count": 13,
   "metadata": {},
   "outputs": [
    {
     "name": "stdout",
     "output_type": "stream",
     "text": [
      "10.9 ms ± 363 µs per loop (mean ± std. dev. of 7 runs, 100 loops each)\n"
     ]
    }
   ],
   "source": [
    "%%timeit\n",
    "attackig_potential_data = (player_data\n",
    "                            .lazy()\n",
    "                            .sort(pl.col(\"potential\"))\n",
    "                            .filter(pl.col(\"attacking_work_rate\")==\"high\")\n",
    "                            .collect())"
   ]
  }
 ],
 "metadata": {
  "kernelspec": {
   "display_name": ".venv",
   "language": "python",
   "name": "python3"
  },
  "language_info": {
   "codemirror_mode": {
    "name": "ipython",
    "version": 3
   },
   "file_extension": ".py",
   "mimetype": "text/x-python",
   "name": "python",
   "nbconvert_exporter": "python",
   "pygments_lexer": "ipython3",
   "version": "3.11.1"
  },
  "orig_nbformat": 4
 },
 "nbformat": 4,
 "nbformat_minor": 2
}
